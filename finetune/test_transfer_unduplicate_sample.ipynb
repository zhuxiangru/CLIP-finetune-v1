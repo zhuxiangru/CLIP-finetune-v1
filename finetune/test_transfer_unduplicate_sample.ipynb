{
 "cells": [
  {
   "cell_type": "code",
   "execution_count": 24,
   "id": "therapeutic-liberal",
   "metadata": {},
   "outputs": [],
   "source": [
    "import numpy as np\n",
    "import random\n",
    "def transfer_unduplicate_sample(batches, batch_size):\n",
    "    # tranfer batches --> new batches\n",
    "    # requirement: 1.每一个batch内的image和text都必须完全不同。\n",
    "    #              2.所有batch，一个image和text出现的次数不超过floor(classes/batch_size)\n",
    "    total_count = len(batches)\n",
    "    n_batches = total_count // batch_size + 1   # //: floor除法(向下取整除),返回除数  7//2=3\n",
    "\n",
    "    batches_by_classes_dict = {}\n",
    "\n",
    "    tranfer_batches = []\n",
    "    is_visited = np.zeros(total_count)\n",
    "\n",
    "    max_list_len = 0\n",
    "    for item_index in range(len(batches)): \n",
    "        _, text = batches[item_index]\n",
    "        if text not in batches_by_classes_dict:\n",
    "            batches_by_classes_dict[text] = [item_index]\n",
    "        else:\n",
    "            batches_by_classes_dict[text].append(item_index)\n",
    "        \n",
    "        if max_list_len < len(batches_by_classes_dict[text]):\n",
    "            max_list_len = len(batches_by_classes_dict[text])\n",
    "    \n",
    "    classes_num = len(batches_by_classes_dict.keys())\n",
    "    if batch_size > classes_num:\n",
    "        print (\"batch_size={0} is larger than class_num={1}. Let batch_size be equal to class_num, \"\n",
    "        \"that is batch_size={1}\".format(batch_size, classes_num))\n",
    "        batch_size = classes_num\n",
    "    \n",
    "    # 根据max_list_len，补全不足长度的list\n",
    "    for text, item_index_list in batches_by_classes_dict.items():\n",
    "        item_index_list_len = len(item_index_list)\n",
    "        if item_index_list_len < max_list_len:\n",
    "            diff_num = max_list_len - item_index_list_len\n",
    "            diff_times = diff_num // item_index_list_len\n",
    "            for time_num in range(diff_times):\n",
    "                item_index_list.extend(random.sample(item_index_list, item_index_list_len))\n",
    "            if diff_num % item_index_list_len != 0:\n",
    "                item_index_list.extend(random.sample(item_index_list, diff_num % item_index_list_len))\n",
    "\n",
    "\n",
    "    for list_index in range(max_list_len):\n",
    "        candidate_batch_items = [batches[item_index_list[list_index]] for item_index_list in batches_by_classes_dict.values()]\n",
    "        #print (\"candidate=\", candidate_batch_items)\n",
    "        for item_index in range(len(candidate_batch_items)):\n",
    "            copy_candidate_batch_items = candidate_batch_items.copy()\n",
    "            candidate_item = copy_candidate_batch_items.pop(item_index)\n",
    "            \n",
    "            per_transfer_batch = []\n",
    "            per_transfer_batch.append(candidate_item)\n",
    "            # batch_size < class_num\n",
    "            per_transfer_batch.extend(random.sample(copy_candidate_batch_items, batch_size - 1))\n",
    "            #print (\"len of per_transfer_batch=\", len(per_transfer_batch))\n",
    "            tranfer_batches.append(per_transfer_batch)\n",
    "\n",
    "    return tranfer_batches"
   ]
  },
  {
   "cell_type": "code",
   "execution_count": 25,
   "id": "decimal-lobby",
   "metadata": {},
   "outputs": [
    {
     "name": "stdout",
     "output_type": "stream",
     "text": [
      "4\n",
      "[[0, 0], [1, 0], [2, 0], [3, 0]]\n",
      "[[4, 1], [5, 1], [6, 1], [7, 1]]\n",
      "[[8, 2], [9, 2], [10, 2], [11, 2]]\n",
      "[[12, 3], [13, 3], [14, 3], [15, 3]]\n",
      "[[16, 4], [17, 4], [18, 4], [19, 4]]\n",
      "[[20, 5], [21, 5], [22, 5], [23, 5]]\n",
      "[[24, 6], [25, 6], [26, 6], [27, 6]]\n",
      "[[28, 7], [29, 7], [30, 7], [31, 7]]\n",
      "[[32, 8], [33, 8], [34, 8], [35, 8]]\n",
      "[[36, 9], [37, 9], [38, 9], [39, 9]]\n",
      "[[40, 10], [41, 10]]\n"
     ]
    }
   ],
   "source": [
    "batches = []\n",
    "class_num_set = set()\n",
    "batch_size = 10\n",
    "all_batches_len = 42\n",
    "# 11个batch\n",
    "n_batches = all_batches_len // batch_size\n",
    "#if all_batches_len % batch_size != 0:\n",
    "#    n_batches += 1\n",
    "class_num = n_batches\n",
    "print (class_num)\n",
    "\n",
    "for item_idx in range(all_batches_len):\n",
    "    one_batch = [item_idx, item_idx // n_batches]\n",
    "    class_num_set.add(item_idx // n_batches)\n",
    "    batches.append(one_batch)\n",
    "for index in range(0, all_batches_len, n_batches):\n",
    "    print (batches[index:index + n_batches])\n",
    "\n"
   ]
  },
  {
   "cell_type": "code",
   "execution_count": 27,
   "id": "developmental-representation",
   "metadata": {},
   "outputs": [
    {
     "name": "stdout",
     "output_type": "stream",
     "text": [
      "[[0, 0], [24, 6], [8, 2], [32, 8]]\n",
      "[[4, 1], [0, 0], [28, 7], [32, 8]]\n",
      "[[8, 2], [36, 9], [4, 1], [28, 7]]\n",
      "[[12, 3], [16, 4], [32, 8], [40, 10]]\n",
      "[[16, 4], [40, 10], [0, 0], [24, 6]]\n",
      "[[20, 5], [24, 6], [40, 10], [32, 8]]\n",
      "[[24, 6], [8, 2], [20, 5], [12, 3]]\n",
      "[[28, 7], [16, 4], [0, 0], [12, 3]]\n",
      "[[32, 8], [40, 10], [20, 5], [12, 3]]\n",
      "[[36, 9], [24, 6], [28, 7], [4, 1]]\n",
      "[[40, 10], [20, 5], [16, 4], [8, 2]]\n",
      "[[1, 0], [13, 3], [33, 8], [37, 9]]\n",
      "[[5, 1], [41, 10], [17, 4], [37, 9]]\n",
      "[[9, 2], [33, 8], [17, 4], [41, 10]]\n",
      "[[13, 3], [9, 2], [1, 0], [17, 4]]\n",
      "[[17, 4], [25, 6], [13, 3], [29, 7]]\n",
      "[[21, 5], [29, 7], [17, 4], [5, 1]]\n",
      "[[25, 6], [41, 10], [29, 7], [5, 1]]\n",
      "[[29, 7], [5, 1], [1, 0], [17, 4]]\n",
      "[[33, 8], [13, 3], [9, 2], [17, 4]]\n",
      "[[37, 9], [29, 7], [17, 4], [13, 3]]\n",
      "[[41, 10], [5, 1], [25, 6], [21, 5]]\n",
      "[[2, 0], [38, 9], [18, 4], [14, 3]]\n",
      "[[6, 1], [40, 10], [34, 8], [10, 2]]\n",
      "[[10, 2], [38, 9], [30, 7], [22, 5]]\n",
      "[[14, 3], [40, 10], [18, 4], [34, 8]]\n",
      "[[18, 4], [30, 7], [10, 2], [2, 0]]\n",
      "[[22, 5], [30, 7], [40, 10], [26, 6]]\n",
      "[[26, 6], [30, 7], [22, 5], [38, 9]]\n",
      "[[30, 7], [14, 3], [40, 10], [22, 5]]\n",
      "[[34, 8], [40, 10], [30, 7], [10, 2]]\n",
      "[[38, 9], [26, 6], [10, 2], [40, 10]]\n",
      "[[40, 10], [2, 0], [14, 3], [26, 6]]\n",
      "[[3, 0], [15, 3], [41, 10], [19, 4]]\n",
      "[[7, 1], [31, 7], [15, 3], [3, 0]]\n",
      "[[11, 2], [35, 8], [7, 1], [3, 0]]\n",
      "[[15, 3], [3, 0], [39, 9], [31, 7]]\n",
      "[[19, 4], [23, 5], [41, 10], [3, 0]]\n",
      "[[23, 5], [3, 0], [41, 10], [27, 6]]\n",
      "[[27, 6], [23, 5], [15, 3], [35, 8]]\n",
      "[[31, 7], [3, 0], [15, 3], [39, 9]]\n",
      "[[35, 8], [39, 9], [23, 5], [11, 2]]\n",
      "[[39, 9], [31, 7], [3, 0], [15, 3]]\n",
      "[[41, 10], [19, 4], [15, 3], [39, 9]]\n"
     ]
    }
   ],
   "source": [
    "batch_size = 4\n",
    "all_batches_len = len(batches)\n",
    "n_batches = all_batches_len // batch_size\n",
    "if all_batches_len % batch_size != 0:\n",
    "    n_batches += 1\n",
    "result = transfer_unduplicate_sample(batches, batch_size)\n",
    "\n",
    "for item in result:\n",
    "    print (item)"
   ]
  },
  {
   "cell_type": "code",
   "execution_count": 43,
   "id": "blind-virgin",
   "metadata": {},
   "outputs": [
    {
     "ename": "ValueError",
     "evalue": "Sample larger than population or is negative",
     "output_type": "error",
     "traceback": [
      "\u001b[0;31m---------------------------------------------------------------------------\u001b[0m",
      "\u001b[0;31mValueError\u001b[0m                                Traceback (most recent call last)",
      "\u001b[0;32m<ipython-input-43-2174157da5e2>\u001b[0m in \u001b[0;36m<module>\u001b[0;34m\u001b[0m\n\u001b[1;32m      1\u001b[0m \u001b[0ma\u001b[0m \u001b[0;34m=\u001b[0m \u001b[0;34m[\u001b[0m\u001b[0;36m1\u001b[0m\u001b[0;34m,\u001b[0m\u001b[0;36m2\u001b[0m\u001b[0;34m,\u001b[0m\u001b[0;36m3\u001b[0m\u001b[0;34m]\u001b[0m\u001b[0;34m\u001b[0m\u001b[0m\n\u001b[0;32m----> 2\u001b[0;31m \u001b[0mrandom\u001b[0m\u001b[0;34m.\u001b[0m\u001b[0msample\u001b[0m\u001b[0;34m(\u001b[0m\u001b[0ma\u001b[0m\u001b[0;34m,\u001b[0m \u001b[0;36m4\u001b[0m\u001b[0;34m)\u001b[0m\u001b[0;34m\u001b[0m\u001b[0m\n\u001b[0m",
      "\u001b[0;32m/environment/python/versions/miniconda3-4.7.12/envs/clip/lib/python3.6/random.py\u001b[0m in \u001b[0;36msample\u001b[0;34m(self, population, k)\u001b[0m\n\u001b[1;32m    316\u001b[0m         \u001b[0mn\u001b[0m \u001b[0;34m=\u001b[0m \u001b[0mlen\u001b[0m\u001b[0;34m(\u001b[0m\u001b[0mpopulation\u001b[0m\u001b[0;34m)\u001b[0m\u001b[0;34m\u001b[0m\u001b[0m\n\u001b[1;32m    317\u001b[0m         \u001b[0;32mif\u001b[0m \u001b[0;32mnot\u001b[0m \u001b[0;36m0\u001b[0m \u001b[0;34m<=\u001b[0m \u001b[0mk\u001b[0m \u001b[0;34m<=\u001b[0m \u001b[0mn\u001b[0m\u001b[0;34m:\u001b[0m\u001b[0;34m\u001b[0m\u001b[0m\n\u001b[0;32m--> 318\u001b[0;31m             \u001b[0;32mraise\u001b[0m \u001b[0mValueError\u001b[0m\u001b[0;34m(\u001b[0m\u001b[0;34m\"Sample larger than population or is negative\"\u001b[0m\u001b[0;34m)\u001b[0m\u001b[0;34m\u001b[0m\u001b[0m\n\u001b[0m\u001b[1;32m    319\u001b[0m         \u001b[0mresult\u001b[0m \u001b[0;34m=\u001b[0m \u001b[0;34m[\u001b[0m\u001b[0;32mNone\u001b[0m\u001b[0;34m]\u001b[0m \u001b[0;34m*\u001b[0m \u001b[0mk\u001b[0m\u001b[0;34m\u001b[0m\u001b[0m\n\u001b[1;32m    320\u001b[0m         \u001b[0msetsize\u001b[0m \u001b[0;34m=\u001b[0m \u001b[0;36m21\u001b[0m        \u001b[0;31m# size of a small set minus size of an empty list\u001b[0m\u001b[0;34m\u001b[0m\u001b[0m\n",
      "\u001b[0;31mValueError\u001b[0m: Sample larger than population or is negative"
     ]
    }
   ],
   "source": [
    "a = [1,2,3]\n",
    "random.sample(a, 4)"
   ]
  },
  {
   "cell_type": "code",
   "execution_count": null,
   "id": "comparable-chapter",
   "metadata": {},
   "outputs": [],
   "source": []
  }
 ],
 "metadata": {
  "kernelspec": {
   "display_name": "clip",
   "language": "python",
   "name": "clip"
  },
  "language_info": {
   "codemirror_mode": {
    "name": "ipython",
    "version": 3
   },
   "file_extension": ".py",
   "mimetype": "text/x-python",
   "name": "python",
   "nbconvert_exporter": "python",
   "pygments_lexer": "ipython3",
   "version": "3.6.5"
  }
 },
 "nbformat": 4,
 "nbformat_minor": 5
}
